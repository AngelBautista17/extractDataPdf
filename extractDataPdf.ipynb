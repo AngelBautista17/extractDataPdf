{
  "nbformat": 4,
  "nbformat_minor": 0,
  "metadata": {
    "colab": {
      "name": "extractDataPdf.ipynb",
      "provenance": [],
      "authorship_tag": "ABX9TyM/sRgEWyxt61FoegKVmiVY",
      "include_colab_link": true
    },
    "kernelspec": {
      "name": "python3",
      "display_name": "Python 3"
    }
  },
  "cells": [
    {
      "cell_type": "markdown",
      "metadata": {
        "id": "view-in-github",
        "colab_type": "text"
      },
      "source": [
        "<a href=\"https://colab.research.google.com/github/Asuskf/extractDataPdf/blob/master/extractDataPdf.ipynb\" target=\"_parent\"><img src=\"https://colab.research.google.com/assets/colab-badge.svg\" alt=\"Open In Colab\"/></a>"
      ]
    },
    {
      "cell_type": "code",
      "metadata": {
        "id": "cxqxLnAafhO6",
        "colab_type": "code",
        "colab": {}
      },
      "source": [
        "!pip install tika\n",
        "!apt-get install ghostscript\n",
        "!gs -dBATCH -dNOPAUSE -sDEVICE=pdfwrite -dFirstPage=1 -dLastPage=2 -sOutputFile=data.pdf ejemplo.pdf"
      ],
      "execution_count": 0,
      "outputs": []
    },
    {
      "cell_type": "code",
      "metadata": {
        "id": "4CIAMI65hMdy",
        "colab_type": "code",
        "colab": {}
      },
      "source": [
        "from tika import parser\n",
        "from pandas import DataFrame\n",
        "raw = parser.from_file('data.pdf')\n",
        "raw['content'].replace('\\uf0b7 ',\"\").split('\\n')\n",
        "cleanList = [text.strip().capitalize() for text in lista]\n",
        "extractElements = [elements.split('   ') for elements in cleanList if len(elements)>0 ]\n",
        "allElements = [ lastElement.strip().split(': ') for text in extractElements for lastElement in text if lastElement.find(\":\") > 0 and lastElement.find('//') == -1]\n",
        "informationPatience = { element[0].strip().capitalize() : ' '.join(map(str, element[1:])).strip().capitalize() for element in allElements }"
      ],
      "execution_count": 0,
      "outputs": []
    },
    {
      "cell_type": "code",
      "metadata": {
        "id": "WLKgO8VVpF-x",
        "colab_type": "code",
        "colab": {}
      },
      "source": [
        "df = DataFrame (list(informationPatience.keys()),columns=['Tipo de datos'])\n",
        "df"
      ],
      "execution_count": 0,
      "outputs": []
    },
    {
      "cell_type": "code",
      "metadata": {
        "id": "buKJ7BDTsES9",
        "colab_type": "code",
        "colab": {}
      },
      "source": [
        "listWords = ('Paciente '+informationPatience['Nombre']+' '+informationPatience['Apellido'].title()+' con DNI: '+informationPatience['Dni']+ ' descripción: '+informationPatience['Enfermedad actual']).split(' ')\n",
        "[listWords.insert(index*22, '\\n') for index in [i for i in range(len(listWords[::22]))][1:]]\n",
        "print(' '.join(listWords))"
      ],
      "execution_count": 0,
      "outputs": []
    }
  ]
}