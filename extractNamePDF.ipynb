{
  "nbformat": 4,
  "nbformat_minor": 0,
  "metadata": {
    "colab": {
      "name": "extractNamePDF.ipynb",
      "provenance": [],
      "collapsed_sections": [],
      "authorship_tag": "ABX9TyMzLDYd0SbsuZU1q8Hr3Tky",
      "include_colab_link": true
    },
    "kernelspec": {
      "name": "python3",
      "display_name": "Python 3"
    }
  },
  "cells": [
    {
      "cell_type": "markdown",
      "metadata": {
        "id": "view-in-github",
        "colab_type": "text"
      },
      "source": [
        "<a href=\"https://colab.research.google.com/github/Asuskf/extractDataPdf/blob/master/extractNamePDF.ipynb\" target=\"_parent\"><img src=\"https://colab.research.google.com/assets/colab-badge.svg\" alt=\"Open In Colab\"/></a>"
      ]
    },
    {
      "cell_type": "code",
      "metadata": {
        "id": "cxqxLnAafhO6",
        "colab_type": "code",
        "colab": {}
      },
      "source": [
        "!pip install tika\n",
        "!apt-get install ghostscript\n",
        "!gs -dBATCH -dNOPAUSE -sDEVICE=pdfwrite -dFirstPage=1 -dLastPage=2 -sOutputFile=data.pdf ejemplo.pdf"
      ],
      "execution_count": 0,
      "outputs": []
    },
    {
      "cell_type": "code",
      "metadata": {
        "id": "4CIAMI65hMdy",
        "colab_type": "code",
        "colab": {}
      },
      "source": [
        "from tika import parser\n",
        "from pandas import DataFrame\n",
        "raw = parser.from_file('data.pdf')\n",
        "lista = raw['content'].replace('\\uf0b7 ',\"\").split('\\n\\n')\n",
        "cleanList = [text.strip().capitalize().split('\\n  \\n') for text in lista]\n",
        "extractElements = [elements.split('   ') for elementsList in cleanList for elements in elementsList if len(elements)>0 ]\n",
        "allElements = [ element.split('\\n \\n') for text in extractElements for element in text if len(element) > 0]\n",
        "cleanElements = [' '.join(map(str, txt.split(' \\n'))).strip().capitalize() for element in allElements for txt in element if txt.find(\":\") > 0]\n",
        "characteristics = [ characteristics for characteristics in cleanElements if len(characteristics.split(': ')) > 1]\n",
        "patientCharacteristics = [patientCharacteristics.split('. ') for patientCharacteristics in characteristics ]\n",
        "auxList =  [ ]\n",
        "patientData = list(set([ auxList.append(','.join(map(str, patientCharacteristic))) if  patientData.find(\":\") == -1 else patientData.strip() for patientCharacteristic  in patientCharacteristics for patientData in patientCharacteristic ]))\n",
        "patientData = list(filter(None, patientData)) \n",
        "patientDict = {patientElement.split(': ')[0].strip().capitalize() : patientElement.split(': ')[1].strip().capitalize() for patientElement in patientData if patientElement.find(\":\") > 0}\n",
        "auxDict = {patientElement.split(': ')[0].strip().capitalize() : patientElement.split(': ')[1].strip().capitalize() for patientElement in auxList}\n",
        "listKey = list(auxDict.keys())\n",
        "try:\n",
        "  for i in listKey:\n",
        "    del patientDict[i]\n",
        "except KeyError:\n",
        "    pass\n",
        "patientDict.update(auxDict)\n"
      ],
      "execution_count": 0,
      "outputs": []
    },
    {
      "cell_type": "code",
      "metadata": {
        "id": "WLKgO8VVpF-x",
        "colab_type": "code",
        "colab": {}
      },
      "source": [
        "df = DataFrame (list(patientDict.keys()),columns=['Tipo de datos'])\n",
        "df"
      ],
      "execution_count": 0,
      "outputs": []
    },
    {
      "cell_type": "code",
      "metadata": {
        "id": "buKJ7BDTsES9",
        "colab_type": "code",
        "colab": {}
      },
      "source": [
        "listWords = ('Paciente '+patientDict['Nombre']+' '+patientDict['Apellido'].title()+' con DNI: '+patientDict['Dni']+ ' descripción: '+patientDict['Enfermedad actual']).split(' ')\n",
        "[listWords.insert(index*22, '\\n') for index in [i for i in range(len(listWords[::20]))][1:]]\n",
        "print(' '.join(listWords))"
      ],
      "execution_count": 0,
      "outputs": []
    }
  ]
}